{
    "cells": [
        {
            "cell_type": "markdown",
            "metadata": {
                "collapsed": true
            },
            "source": "# My Jupyter Notebook on IBM Watson Studio"
        },
        {
            "cell_type": "markdown",
            "metadata": {},
            "source": "**Nicole Hermiz**\\\nTechnical Consultant"
        },
        {
            "cell_type": "markdown",
            "metadata": {},
            "source": "*I am interested in data science because I want the ability to contribute more on the technical aspects of my client projects.*"
        },
        {
            "cell_type": "markdown",
            "metadata": {},
            "source": "### In the next cell, two numbers are added together and the output is presented"
        },
        {
            "cell_type": "code",
            "execution_count": 6,
            "metadata": {},
            "outputs": [
                {
                    "data": {
                        "text/plain": "13"
                    },
                    "execution_count": 6,
                    "metadata": {},
                    "output_type": "execute_result"
                }
            ],
            "source": "def sum(a, b):\n    return(a + b)\n\nsum(4, 9)"
        },
        {
            "cell_type": "markdown",
            "metadata": {},
            "source": "**Table**\n\n\n\n| DayNum   | DayName  | GoodFlag |\n| -------- | :------- | -------- |\n| 1        | Sunday   | Yes      |\n| 2        | Monday   | Yes      |\n| 3        | Tuesday  | No       |\n| 4        | Wednesday| No       |\n| 5        | Thursday | Yes      |\n| 6        | Friday   | Yes      |\n| 7        | Saturday | Yes      |\n\n**Link**\\\n[Here is a link to Google's homepage](https://google.com)\n\n\n\n**Strikethrough**\\\n~~This is how you cross out text...never mind~~\n\n\n\n**Blockquote**\n> This is a blockquote. I didn't know what \"blockquote\" meant before this lesson.\n\n......\n> I'm learning!"
        }
    ],
    "metadata": {
        "kernelspec": {
            "display_name": "Python 3.9",
            "language": "python",
            "name": "python3"
        },
        "language_info": {
            "codemirror_mode": {
                "name": "ipython",
                "version": 3
            },
            "file_extension": ".py",
            "mimetype": "text/x-python",
            "name": "python",
            "nbconvert_exporter": "python",
            "pygments_lexer": "ipython3",
            "version": "3.9.13"
        }
    },
    "nbformat": 4,
    "nbformat_minor": 1
}